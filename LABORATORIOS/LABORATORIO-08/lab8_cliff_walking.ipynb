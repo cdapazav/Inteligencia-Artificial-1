{
 "cells": [
  {
   "cell_type": "markdown",
   "id": "5efa2ea6",
   "metadata": {},
   "source": [
    "# Laboratorio 8 — Cliff Walking con Q-learning\n",
    "**Grupo 1**\n",
    "\n",
    "Integrantes de grupo:\n",
    "- **Apaza Villca Cristofer Denilson SIS**\n",
    "- **Saygua Romero Josue SIS**\n",
    "- **Romero Morales Jhojan Erick CICO**\n",
    "- **Peñaranda Anagua Emily SIS**\n",
    "___\n",
    "##### **En este cuadernillo se realizó la implementación y demostracion de gymnasiun para cliff walking**\n",
    "-**Implementación simple y directa de Q-learning:**\n",
    "- **Tabla Q** para guardar valores\n",
    "- **Exploración → Explotación**\n",
    "___\n",
    "Recompensas:\n",
    "- -1 por cada paso normal\n",
    "- -100 por caer en el acantilado\n",
    "- 0 por llegar a la meta\n",
    "- **Objetivo: Maximizar recompensa acumulada (minimizar penalizaciones)**\n",
    "___ \n",
    " En este laboratorio se utiliza un entorno clásico de aprendizaje por refuerzo\n",
    " llamado \"CliffWalking-v1\", proporcionado por la librería Gymnasium"
   ]
  },
  {
   "cell_type": "markdown",
   "id": "63423c8b",
   "metadata": {},
   "source": [
    "## Instalación de gymnasium\n",
    "```bash\n",
    "pip install gymnasium\n",
    "```"
   ]
  },
  {
   "cell_type": "markdown",
   "id": "2162663b",
   "metadata": {},
   "source": [
    "Importamos las librerias que se usará "
   ]
  },
  {
   "cell_type": "code",
   "execution_count": 1,
   "id": "99208507",
   "metadata": {},
   "outputs": [],
   "source": [
    "import numpy as np\n",
    "import matplotlib.pyplot as plt\n",
    "import gymnasium as gym\n",
    "import os\n",
    "\n",
    "np.random.seed(42)\n"
   ]
  },
  {
   "cell_type": "markdown",
   "id": "792309d9",
   "metadata": {},
   "source": [
    "## Creación del entorno Cliff Walking\n",
    "El entorno **CliffWalking-v1** simula un tablero 4x12 con:\n",
    "- El agente iniciando en la esquina inferior izquierda.\n",
    "- La meta al final de la fila inferior derecha.\n",
    "- Un \"acantilado\" entre ambos puntos: si el agente cae, recibe una fuerte penalización (-100).\n",
    "\n",
    "El agente puede moverse **arriba, abajo, izquierda o derecha**."
   ]
  },
  {
   "cell_type": "code",
   "execution_count": 2,
   "id": "0c317e15",
   "metadata": {},
   "outputs": [
    {
     "name": "stdout",
     "output_type": "stream",
     "text": [
      "Estados: 48\n",
      "Acciones: 4 (0:arriba, 1:derecha, 2:abajo, 3:izquierda)\n"
     ]
    }
   ],
   "source": [
    "# Creamos el entorno para el modelo\n",
    "env = gym.make('CliffWalking-v1')\n",
    "print(f'Estados: {env.observation_space.n}')\n",
    "print(f'Acciones: {env.action_space.n} (0:arriba, 1:derecha, 2:abajo, 3:izquierda)')\n"
   ]
  },
  {
   "cell_type": "markdown",
   "id": "8b8c6587",
   "metadata": {},
   "source": [
    "## PASO 1: Entrenamiento con Q-learning\n",
    "Creamos una tabla Q (Q-Table) para almacenar el valor Q(s,a), Q[s, a] representa el valor esperado de tomar la acción 'a' en el estado 's'. Inicialmente todos los valores son 0.\n",
    "\n",
    "Durante el entrenamiento, el agente interactúa con el entorno durante varios episodios(1500).  \n",
    "En cada paso decide si **explorar (acción aleatoria)** o **explotar (usar el conocimiento actual)** usando una política ε-greedy.\n"
   ]
  },
  {
   "cell_type": "code",
   "execution_count": 3,
   "id": "bc37083c",
   "metadata": {},
   "outputs": [
    {
     "name": "stdout",
     "output_type": "stream",
     "text": [
      "Entrenamiento por Q-LEARNING\n",
      "\n",
      "Episodio 200/1500 | Recompensa media (últimos 100): -348.5 | Epsilon: 0.37\n",
      "Episodio 400/1500 | Recompensa media (últimos 100): -101.9 | Epsilon: 0.13\n",
      "Episodio 600/1500 | Recompensa media (últimos 100): -30.3 | Epsilon: 0.05\n",
      "Episodio 800/1500 | Recompensa media (últimos 100): -20.8 | Epsilon: 0.02\n",
      "Episodio 1000/1500 | Recompensa media (últimos 100): -18.4 | Epsilon: 0.01\n",
      "Episodio 1200/1500 | Recompensa media (últimos 100): -15.2 | Epsilon: 0.01\n",
      "Episodio 1400/1500 | Recompensa media (últimos 100): -13.1 | Epsilon: 0.01\n",
      "\n",
      " Modelo guardado en: q_table.npy\n"
     ]
    }
   ],
   "source": [
    "n_estados = env.observation_space.n\n",
    "n_acciones = env.action_space.n\n",
    "Q = np.zeros((n_estados, n_acciones))\n",
    "\n",
    "episodios = 1500\n",
    "alpha = 0.2\n",
    "gamma = 0.99\n",
    "epsilon = 1.0\n",
    "epsilon_min = 0.01\n",
    "epsilon_decay = 0.995\n",
    "\n",
    "historial_recompensas = []\n",
    "\n",
    "print(\"Entrenamiento por Q-LEARNING\\n\")\n",
    "\n",
    "for ep in range(episodios):\n",
    "    # Cada episodio es un intento del agente por ir desde el inicio hasta la meta.\n",
    "    estado, _ = env.reset()\n",
    "    recompensa_total = 0\n",
    "    \n",
    "    for paso in range(200):\n",
    "        # probabilidad epsilon\n",
    "        # otras veces explotamos lo que ya aprendimos (la mejor acción según Q).\n",
    "        if np.random.random() < epsilon:\n",
    "            accion = env.action_space.sample()  # explorarion\n",
    "        else:\n",
    "            accion = int(np.argmax(Q[estado]))  # explotacion\n",
    "        \n",
    "        # Ejecutar la acción en el entorno y recibir la recompensa real\n",
    "        # CliffWalking las recompensas son negativas (cada paso vale -1,caer al acantilado es muy negativo, Aquí eso significa que el agente, está aprendiendo a \"perder lo menos posible\" llegar rápido y evitar el acantilado)\n",
    "        nuevo_estado, recompensa, done, truncated, _ = env.step(accion)\n",
    "        \n",
    "        # Actualizamos la tabla Q ajustamos cuánto vale esta acción en este estado.\n",
    "        Q[estado, accion] += alpha * (recompensa + gamma * np.max(Q[nuevo_estado]) - Q[estado, accion])\n",
    "        \n",
    "        # Pasamos al siguiente estado\n",
    "        estado = nuevo_estado\n",
    "        recompensa_total += recompensa\n",
    "        \n",
    "        # Si el episodio terminó, salimos del bucle de pasos\n",
    "        if done or truncated:\n",
    "            break\n",
    "    \n",
    "    historial_recompensas.append(recompensa_total)\n",
    "    # Reducimos la exploración lentamente: al principio probamos mucho, luego confiamos en lo aprendido.\n",
    "    epsilon = max(epsilon_min, epsilon * epsilon_decay)\n",
    "    \n",
    "    # Mensaje sencillo para mostrar progreso cada 200 episodios\n",
    "    if (ep + 1) % 200 == 0:\n",
    "        media = np.mean(historial_recompensas[-100:])\n",
    "        print(f\"Episodio {ep+1}/{episodios} | Recompensa media (últimos 100): {media:.1f} | Epsilon: {epsilon:.2f}\")\n",
    "\n",
    "# Guardamos la tabla Q para poder usarla después sin reentrenar.\n",
    "np.save('q_table.npy', Q)\n",
    "print(\"\\n Modelo guardado en: q_table.npy\")"
   ]
  },
  {
   "cell_type": "markdown",
   "id": "702106d4",
   "metadata": {},
   "source": [
    "## Evolución de la recompensa\n",
    "\n",
    "La siguiente gráfica muestra cómo cambia la recompensa a lo largo de los episodios.  \n",
    "Una tendencia ascendente (o menos negativa) indica que el agente está aprendiendo una mejor política.\n"
   ]
  },
  {
   "cell_type": "code",
   "execution_count": 4,
   "id": "1dc63575",
   "metadata": {},
   "outputs": [
    {
     "data": {
      "image/png": "[encoded data removed]",
      "text/plain": [
       "<Figure size 1200x500 with 1 Axes>"
      ]
     },
     "metadata": {},
     "output_type": "display_data"
    },
    {
     "name": "stdout",
     "output_type": "stream",
     "text": [
      "\n",
      "Las recompensas son negativas por diseño. Un valor menos negativo indica mejor desempeño (menos pasos o evitar el acantilado).\n"
     ]
    }
   ],
   "source": [
    "# Dibujamos la evolución de la recompensa por episodio para ver si el agente mejora\n",
    "plt.figure(figsize=(12, 5))\n",
    "plt.plot(historial_recompensas, alpha=0.3, label='Por episodio')\n",
    "\n",
    "# Media móvil para tener una visión más suave del progreso\n",
    "ventana = 50\n",
    "if len(historial_recompensas) >= ventana:\n",
    "    media_movil = np.convolve(historial_recompensas, np.ones(ventana)/ventana, mode='valid')\n",
    "    plt.plot(range(ventana-1, len(historial_recompensas)), media_movil, 'r-', linewidth=2, label=f'Media móvil ({ventana})')\n",
    "\n",
    "plt.xlabel('Episodio')\n",
    "plt.ylabel('Recompensa total (valores negativos = mejor si son menos negativos)')\n",
    "plt.title('Progreso del entrenamiento (recompensa por episodio)')\n",
    "plt.legend()\n",
    "plt.grid(True, alpha=0.3)\n",
    "plt.show()\n",
    "\n",
    "#En este entorno una recompensa menos negativa (por ejemplo -13) es mejor que -50.\n",
    "print('\\nLas recompensas son negativas por diseño. Un valor menos negativo indica mejor desempeño (menos pasos o evitar el acantilado).')"
   ]
  },
  {
   "cell_type": "markdown",
   "id": "275f54db",
   "metadata": {},
   "source": [
    "## PASO 2: Evaluación del modelo\n",
    "Probamos el agente sin exploración (solo explotación) para medir qué tan bien aprendió. Se considera éxito si llega a la meta sin caer al acantilado."
   ]
  },
  {
   "cell_type": "code",
   "execution_count": 5,
   "id": "973f5255",
   "metadata": {},
   "outputs": [
    {
     "name": "stdout",
     "output_type": "stream",
     "text": [
      " EVALUANDO MODELO...\n",
      "\n",
      "Prueba 1: ✓ Éxito (13 pasos)\n",
      "Prueba 2: ✓ Éxito (13 pasos)\n",
      "Prueba 3: ✓ Éxito (13 pasos)\n",
      "\n",
      " RESULTADOS FINALES\n",
      "✓ Porcentaje de éxito: 100.0%\n",
      "✓ Pruebas exitosas: 100/100\n",
      "✓ Pasos medios por intento: 13.0\n"
     ]
    }
   ],
   "source": [
    "#voy a ejecutar el agente sin exploración y contar éxitos\n",
    "exitos = 0\n",
    "n_pruebas = 100\n",
    "pasos_por_prueba = []\n",
    "\n",
    "print(\" EVALUANDO MODELO...\\n\")\n",
    "\n",
    "for prueba in range(n_pruebas):\n",
    "    estado, _ = env.reset()\n",
    "    pasos = 0\n",
    "    for paso in range(200):\n",
    "        # Siempre explotamos la mejor acción conocida\n",
    "        accion = int(np.argmax(Q[estado]))\n",
    "        estado, recompensa, done, truncated, _ = env.step(accion)\n",
    "        pasos += 1\n",
    "        if done or truncated:\n",
    "            # En CliffWalking, recompensa > -50 indica que llegó a la meta (-1 normalmente)\n",
    "            if recompensa > -50:\n",
    "                exitos += 1\n",
    "            if prueba < 3:\n",
    "                print(f\"Prueba {prueba+1}: {'✓ Éxito' if recompensa > -50 else '✗ Falló'} ({pasos} pasos)\")\n",
    "            break\n",
    "    pasos_por_prueba.append(pasos)\n",
    "\n",
    "porcentaje_exito = (exitos / n_pruebas) * 100\n",
    "pasos_medios = np.mean(pasos_por_prueba)\n",
    "\n",
    "print(\"\\n RESULTADOS FINALES\")\n",
    "print(f\"✓ Porcentaje de éxito: {porcentaje_exito:.1f}%\")\n",
    "print(f\"✓ Pruebas exitosas: {exitos}/{n_pruebas}\")\n",
    "print(f\"✓ Pasos medios por intento: {pasos_medios:.1f}\")\n"
   ]
  },
  {
   "cell_type": "markdown",
   "id": "dcb75306",
   "metadata": {},
   "source": [
    "## PASO 3: Visualizar política aprendida\n",
    "Mostramos la política aprendida (acción óptima por estado). Cada flecha representa la dirección que el agente elige con mayor valor Q. Esto permite visualizar la ruta aprendida para evitar el acantilado.\n"
   ]
  },
  {
   "cell_type": "code",
   "execution_count": 6,
   "id": "973f5255",
   "metadata": {},
   "outputs": [
    {
     "name": "stdout",
     "output_type": "stream",
     "text": [
      "POLÍTICA APRENDIDA \n",
      "\n",
      " ↑  →  →  ↓  →  →  ↓  →  →  →  →  ↓ \n",
      " →  →  →  →  →  →  →  →  →  ↓  →  ↓ \n",
      " →  →  →  →  →  →  →  →  →  →  →  ↓ \n",
      " ↑  ↑  ↑  ↑  ↑  ↑  ↑  ↑  ↑  ↑  ↑  ↑ \n"
     ]
    }
   ],
   "source": [
    "# Mostrar la política de forma legible: flechas que indican la mejor acción en cada casilla\n",
    "acciones_simbolos = {0: '↑', 1: '→', 2: '↓', 3: '←'}\n",
    "politica = np.argmax(Q, axis=1)\n",
    "\n",
    "print(\"POLÍTICA APRENDIDA \\n\")\n",
    "for fila in range(4):\n",
    "    linea = \"\"\n",
    "    for col in range(12):\n",
    "        estado = fila * 12 + col\n",
    "        accion = int(politica[estado])\n",
    "        linea += f\" {acciones_simbolos[accion]} \"\n",
    "    print(linea)\n"
   ]
  },
  {
   "cell_type": "markdown",
   "id": "c5240024",
   "metadata": {},
   "source": [
    "## PASO 4: Cargar modelo guardado\n",
    "Cargamos el archivo con la Q-table entrenada y verificamos su funcionamiento.\n",
    "Se realizan 5 ejecuciones de prueba y se muestra el resultado de cada una.\n"
   ]
  },
  {
   "cell_type": "code",
   "execution_count": 7,
   "id": "cc3e7e22",
   "metadata": {},
   "outputs": [
    {
     "name": "stdout",
     "output_type": "stream",
     "text": [
      "Modelo cargado desde: q_table.npy\n",
      "\n",
      "Probando el modelo cargado (5 ejecuciones):\n",
      "\n",
      "Ejecución 1: ✓ Éxito (13 pasos)\n",
      "Ejecución 2: ✓ Éxito (13 pasos)\n",
      "Ejecución 3: ✓ Éxito (13 pasos)\n",
      "Ejecución 4: ✓ Éxito (13 pasos)\n",
      "Ejecución 5: ✓ Éxito (13 pasos)\n",
      "\n",
      "Nota: si quieres reproducir exactamente, garantiza la semilla al resetear el env.\n"
     ]
    }
   ],
   "source": [
    "# Cargar la Q-table guardada y ejecutar un par de episodios para comprobar que todo funciona\n",
    "Q_guardado = np.load('q_table.npy')\n",
    "print(\"Modelo cargado desde: q_table.npy\\n\")\n",
    "\n",
    "print(\"Probando el modelo cargado (5 ejecuciones):\\n\")\n",
    "for i in range(5):\n",
    "    estado, _ = env.reset()\n",
    "    pasos = 0\n",
    "    for paso in range(200):\n",
    "        accion = int(np.argmax(Q_guardado[estado]))\n",
    "        estado, recompensa, done, truncated, _ = env.step(accion)\n",
    "        pasos += 1\n",
    "        if done or truncated:\n",
    "            print(f\"Ejecución {i+1}: {'✓ Éxito' if recompensa > -50 else '✗ Falló'} ({pasos} pasos)\")\n",
    "            break\n",
    "\n",
    "print('\\nNota: si quieres reproducir exactamente, garantiza la semilla al resetear el env.')"
   ]
  },
  {
   "cell_type": "markdown",
   "id": "9ba48cc2",
   "metadata": {},
   "source": [
    "## PASO 5: Demostración visual\n",
    "Por último, se crea una versión del entorno con modo gráfico (`render_mode='human'`)  \n",
    "para observar visualmente cómo el agente recorre el camino aprendido.\n",
    "Creamos un entorno con renderizado visual para observar la ruta.\n",
    "Cada paso se retrasa 0.2 segundos para ver el movimiento.\n",
    "El bucle se detiene si el agente alcanza la meta o cae.\n"
   ]
  },
  {
   "cell_type": "code",
   "execution_count": 8,
   "id": "d1f04fed",
   "metadata": {},
   "outputs": [
    {
     "name": "stdout",
     "output_type": "stream",
     "text": [
      "✓ Completado en 13 pasos\n"
     ]
    }
   ],
   "source": [
    "import time\n",
    "\n",
    "env_visual = gym.make('CliffWalking-v1', render_mode='human')\n",
    "estado, _ = env_visual.reset()\n",
    "\n",
    "for paso in range(200):\n",
    "    accion = np.argmax(Q[estado])\n",
    "    estado, recompensa, done, truncated, _ = env_visual.step(accion)\n",
    "    time.sleep(0.2)\n",
    "    \n",
    "    if done or truncated:\n",
    "        print(f\"✓ Completado en {paso+1} pasos\")\n",
    "        break\n",
    "\n",
    "env_visual.close()\n"
   ]
  }
 ],
 "metadata": {
  "kernelspec": {
   "display_name": "condaGPU_gym",
   "language": "python",
   "name": "python3"
  },
  "language_info": {
   "codemirror_mode": {
    "name": "ipython",
    "version": 3
   },
   "file_extension": ".py",
   "mimetype": "text/x-python",
   "name": "python",
   "nbconvert_exporter": "python",
   "pygments_lexer": "ipython3",
   "version": "3.11.13"
  }
 },
 "nbformat": 4,
 "nbformat_minor": 5
}
