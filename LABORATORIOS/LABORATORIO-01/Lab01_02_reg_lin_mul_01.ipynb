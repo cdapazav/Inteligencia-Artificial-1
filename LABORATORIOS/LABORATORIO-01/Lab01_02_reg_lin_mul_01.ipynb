{
  "cells": [
    {
      "cell_type": "markdown",
      "metadata": {
        "id": "tfwOfkjclHQx"
      },
      "source": [
        "# Regresión Lineal Multiple"
      ]
    },
    {
      "cell_type": "code",
      "execution_count": 1,
      "metadata": {
        "id": "f0WGMMljlHQz"
      },
      "outputs": [],
      "source": [
        "# utilizado para manejos de directorios y rutas\n",
        "import os\n",
        "\n",
        "# Computacion vectorial y cientifica para python\n",
        "import numpy as np\n",
        "\n",
        "# Librerias para graficación (trazado de gráficos)\n",
        "from matplotlib import pyplot\n",
        "from mpl_toolkits.mplot3d import Axes3D  # Necesario para graficar superficies 3D\n",
        "\n",
        "# llama a matplotlib a embeber graficas dentro de los cuadernillos\n",
        "%matplotlib inline"
      ]
    },
    {
      "cell_type": "code",
      "source": [
        "from google.colab import drive\n",
        "drive.mount(\"/content/gdrive\")"
      ],
      "metadata": {
        "id": "LhERtghFlVGr",
        "colab": {
          "base_uri": "https://localhost:8080/"
        },
        "outputId": "5a534ea9-9d9c-4e78-a451-4979ed3b1e44"
      },
      "execution_count": 3,
      "outputs": [
        {
          "output_type": "stream",
          "name": "stdout",
          "text": [
            "Mounted at /content/gdrive\n"
          ]
        }
      ]
    },
    {
      "cell_type": "markdown",
      "metadata": {
        "id": "G6-ykOwelHQ0"
      },
      "source": [
        "<a id=\"section4\"></a>\n",
        "#Normalización de caracteristicas\n"
      ]
    },
    {
      "cell_type": "code",
      "execution_count": 8,
      "metadata": {
        "id": "6BP5grkxlHQ0",
        "colab": {
          "base_uri": "https://localhost:8080/"
        },
        "outputId": "369901fa-6b24-494c-a523-8ea29283f8e5"
      },
      "outputs": [
        {
          "output_type": "stream",
          "name": "stdout",
          "text": [
            "1100\n",
            "  X[:,0] X[:, 1]         y\n",
            "--------------------------\n",
            "      14      20         1\n",
            "      15       8         2\n",
            "      12      18         1\n",
            "      16      12         2\n",
            "      16      28         1\n",
            "      20      13         2\n",
            "       4      26         0\n",
            "      17       3         2\n",
            "      13      22         1\n",
            "       6       8         1\n"
          ]
        }
      ],
      "source": [
        "# Cargar datos\n",
        "# data = np.loadtxt(os.path.join('Datasets', 'ex1data2.txt'), delimiter=',')\n",
        "data = np.loadtxt('/content/gdrive/MyDrive/IA 1/datasets/StressLevelDataset_cleaned.txt', delimiter=',')\n",
        "X = data[:, :-1]\n",
        "y = data[:, -1]\n",
        "m = y.size\n",
        "print(m)\n",
        "# imprimir algunos puntos de datos\n",
        "print('{:>8s}{:>8s}{:>10s}'.format('X[:,0]', 'X[:, 1]', 'y'))\n",
        "print('-'*26)\n",
        "for i in range(10):\n",
        "    print('{:8.0f}{:8.0f}{:10.0f}'.format(X[i, 0], X[i, 1], y[i]))"
      ]
    },
    {
      "cell_type": "code",
      "source": [
        "# Cargar datos\n",
        "# data = np.loadtxt(os.path.join('Datasets', 'ex1data2.txt'), delimiter=',')\n",
        "data = np.loadtxt('/content/gdrive/MyDrive/IA 1/datasets/StressLevelDataset_cleaned.txt', delimiter=',')\n",
        "X = data[:, :-1]\n",
        "y = data[:, -1]\n",
        "m = y.size\n",
        "print(m)\n",
        "# Dynamically create format string for headers and data\n",
        "header_format = '{:>8s}' * X.shape[1] + '{:>10s}'\n",
        "data_format = '{:8.0f}' * X.shape[1] + '{:10.0f}'\n",
        "\n",
        "headers = [f'X[:,{j}]' for j in range(X.shape[1])] + ['y']\n",
        "\n",
        "print(header_format.format(*headers))\n",
        "print('-' * (8 * X.shape[1] + 10))\n",
        "\n",
        "for i in range(min(10, m)):\n",
        "    print(data_format.format(*X[i, :], y[i]))"
      ],
      "metadata": {
        "colab": {
          "base_uri": "https://localhost:8080/"
        },
        "id": "i6-0GzHmtTjO",
        "outputId": "4ca69266-78b0-4f6f-b3bd-c5b1bfeb5674"
      },
      "execution_count": 10,
      "outputs": [
        {
          "output_type": "stream",
          "name": "stdout",
          "text": [
            "1100\n",
            "  X[:,0]  X[:,1]  X[:,2]  X[:,3]  X[:,4]  X[:,5]  X[:,6]  X[:,7]  X[:,8]  X[:,9] X[:,10] X[:,11] X[:,12] X[:,13]         y\n",
            "--------------------------------------------------------------------------------------------------------------------------\n",
            "      14      20      11       2       2       2       3       3       3       2       3       3       2       2         1\n",
            "      15       8      15       5       1       3       1       2       1       4       1       5       1       5         2\n",
            "      12      18      14       2       2       2       2       3       2       3       3       2       2       2         1\n",
            "      16      12      15       4       1       4       2       2       2       4       1       4       1       5         2\n",
            "      16      28       7       2       5       3       2       4       4       3       1       2       1       5         1\n",
            "      20      13      21       3       1       3       2       2       2       5       2       5       1       5         2\n",
            "       4      26       6       1       4       1       4       4       5       1       4       1       3       1         0\n",
            "      17       3      22       4       1       3       1       1       1       3       2       4       1       5         2\n",
            "      13      22      12       3       2       3       3       3       3       3       2       3       3       2         1\n",
            "       6       8      27       4       1       0       5       2       2       2       1       5       1       4         1\n"
          ]
        }
      ]
    },
    {
      "cell_type": "code",
      "execution_count": 11,
      "metadata": {
        "id": "7xFD8H3WlHQ1"
      },
      "outputs": [],
      "source": [
        "def  featureNormalize(X):\n",
        "\n",
        "    X_norm = X.copy()\n",
        "    mu = np.zeros(X.shape[1])\n",
        "    sigma = np.zeros(X.shape[1])\n",
        "\n",
        "    mu = np.mean(X, axis = 0)\n",
        "    sigma = np.std(X, axis = 0)\n",
        "    X_norm = (X - mu) / sigma\n",
        "\n",
        "    return X_norm, mu, sigma"
      ]
    },
    {
      "cell_type": "code",
      "execution_count": 12,
      "metadata": {
        "id": "ipL_QsTZlHQ2",
        "colab": {
          "base_uri": "https://localhost:8080/"
        },
        "outputId": "746cfc0e-f2ac-42e8-97ef-5656facb9bdc",
        "collapsed": true
      },
      "outputs": [
        {
          "output_type": "stream",
          "name": "stdout",
          "text": [
            "[[14. 20. 11. ...  3.  2.  2.]\n",
            " [15.  8. 15. ...  5.  1.  5.]\n",
            " [12. 18. 14. ...  2.  2.  2.]\n",
            " ...\n",
            " [ 4. 26.  3. ...  1.  3.  1.]\n",
            " [21.  0. 19. ...  4.  1.  4.]\n",
            " [18.  6. 15. ...  3.  1.  4.]]\n",
            "Media calculada: [11.06363636 17.77727273 12.55545455  2.50818182  2.66        2.64909091\n",
            "  2.51818182  2.73727273  2.77272727  2.62181818  2.64818182  2.64909091\n",
            "  1.88181818  2.61727273]\n",
            "Desviación estandar calculada: [6.11477685 8.94053241 7.72349528 1.4087152  1.54767861 1.32752302\n",
            " 1.11869907 1.40553187 1.41395056 1.3151828  1.38394901 1.52868009\n",
            " 1.04735006 1.53026196]\n",
            "[[ 0.48020782  0.24861241 -0.20139257 ...  0.22955038  0.11283889\n",
            "  -0.40337716]\n",
            " [ 0.64374608 -1.09358954  0.31650766 ...  1.53786859 -0.84195172\n",
            "   1.5570715 ]\n",
            " [ 0.15313129  0.02491208  0.18703261 ... -0.42460873  0.11283889\n",
            "  -0.40337716]\n",
            " ...\n",
            " [-1.15517484  0.91971338 -1.23719303 ... -1.07876784  1.0676295\n",
            "  -1.05686005]\n",
            " [ 1.62497568 -1.98839084  0.8344079  ...  0.88370948 -0.84195172\n",
            "   0.90358861]\n",
            " [ 1.13436088 -1.31728986  0.31650766 ...  0.22955038 -0.84195172\n",
            "   0.90358861]]\n"
          ]
        }
      ],
      "source": [
        "# llama featureNormalize con los datos cargados\n",
        "X_norm, mu, sigma = featureNormalize(X)\n",
        "\n",
        "print(X)\n",
        "print('Media calculada:', mu)\n",
        "print('Desviación estandar calculada:', sigma)\n",
        "print(X_norm)"
      ]
    },
    {
      "cell_type": "markdown",
      "metadata": {
        "id": "it9bMYuLlHQ2"
      },
      "source": [
        "Despues de `featureNormalize` la funcion es provada, se añade el temino de interseccion a `X_norm`:"
      ]
    },
    {
      "cell_type": "code",
      "execution_count": 13,
      "metadata": {
        "id": "nNaGVxgolHQ2"
      },
      "outputs": [],
      "source": [
        "# Añade el termino de interseccion a X\n",
        "# (Columna de unos para X0)\n",
        "X = np.concatenate([np.ones((m, 1)), X_norm], axis=1)"
      ]
    },
    {
      "cell_type": "code",
      "execution_count": 14,
      "metadata": {
        "id": "nbUVohnhlHQ3",
        "colab": {
          "base_uri": "https://localhost:8080/"
        },
        "outputId": "d7a2e612-2692-4575-ecaf-35d25ee3df1d",
        "collapsed": true
      },
      "outputs": [
        {
          "output_type": "stream",
          "name": "stdout",
          "text": [
            "[[ 1.          0.48020782  0.24861241 ...  0.22955038  0.11283889\n",
            "  -0.40337716]\n",
            " [ 1.          0.64374608 -1.09358954 ...  1.53786859 -0.84195172\n",
            "   1.5570715 ]\n",
            " [ 1.          0.15313129  0.02491208 ... -0.42460873  0.11283889\n",
            "  -0.40337716]\n",
            " ...\n",
            " [ 1.         -1.15517484  0.91971338 ... -1.07876784  1.0676295\n",
            "  -1.05686005]\n",
            " [ 1.          1.62497568 -1.98839084 ...  0.88370948 -0.84195172\n",
            "   0.90358861]\n",
            " [ 1.          1.13436088 -1.31728986 ...  0.22955038 -0.84195172\n",
            "   0.90358861]]\n"
          ]
        }
      ],
      "source": [
        "print(X)"
      ]
    },
    {
      "cell_type": "markdown",
      "metadata": {
        "id": "xzLiIE6NlHQ3"
      },
      "source": [
        "<a id=\"section5\"></a>\n",
        "#Descenso por el gradiente\n",
        "La implementacion de las funciones `computeCostMulti` y `gradientDescentMulti` son similares a la funcion de costo y función de descenso por el gradiente de la regresión lineal multiple es similar al de la regresion lineal multivariable. Es importante garantizar que el codigo soporte cualquier numero de caracteristicas y esten bien vectorizadas.\n",
        "\n",
        "Se puede utilizar `shape`, propiedad de los arrays `numpy`, para identificar cuantas caracteristicas estan consideradas en el dataset.\n",
        "\n",
        "<div class=\"alert alert-block alert-warning\">\n",
        "**Nota de implementación:** En el caso de multivariables, la función de costo puede se escrita considerando la forma vectorizada de la siguiente manera:\n",
        "\n",
        "$$ J(\\theta) = \\frac{1}{2m}(X\\theta - \\vec{y})^T(X\\theta - \\vec{y}) $$\n",
        "\n",
        "donde:\n",
        "\n",
        "$$ X = \\begin{pmatrix}\n",
        "- (x^{(1)})^T - \\\\\n",
        "- (x^{(2)})^T - \\\\\n",
        "\\vdots \\\\\n",
        "- (x^{(m)})^T - \\\\ \\\\\n",
        "\\end{pmatrix} \\qquad \\mathbf{y} = \\begin{bmatrix} y^{(1)} \\\\ y^{(2)} \\\\ \\vdots \\\\ y^{(m)} \\\\\\end{bmatrix}$$\n",
        "\n",
        "La version vectorizada es eficiente cuando se trabaja con herramientas de calculo numericos computacional como `numpy`.\n",
        "</div>\n",
        "\n",
        "<a id=\"computeCostMulti\"></a>"
      ]
    },
    {
      "cell_type": "code",
      "execution_count": 15,
      "metadata": {
        "id": "EQCMN7KqlHQ3"
      },
      "outputs": [],
      "source": [
        "def computeCostMulti(X, y, theta):\n",
        "    # Inicializa algunos valores utiles\n",
        "    m = y.shape[0] # numero de ejemplos de entrenamiento\n",
        "\n",
        "    J = 0\n",
        "\n",
        "    # h = np.dot(X, theta)\n",
        "\n",
        "    J = (1/(2 * m)) * np.sum(np.square(np.dot(X, theta) - y))\n",
        "\n",
        "    return J\n"
      ]
    },
    {
      "cell_type": "code",
      "execution_count": 16,
      "metadata": {
        "id": "Vdy_aQUklHQ4"
      },
      "outputs": [],
      "source": [
        "def gradientDescentMulti(X, y, theta, alpha, num_iters):\n",
        "\n",
        "    # Inicializa algunos valores\n",
        "    m = y.shape[0] # numero de ejemplos de entrenamiento\n",
        "\n",
        "    # realiza una copia de theta, el cual será acutalizada por el descenso por el gradiente\n",
        "\n",
        "    theta = theta.copy()\n",
        "\n",
        "    J_history = []\n",
        "\n",
        "    for i in range(num_iters):\n",
        "        theta = theta - (alpha / m) * (np.dot(X, theta) - y).dot(X)\n",
        "        J_history.append(computeCostMulti(X, y, theta))\n",
        "\n",
        "    return theta, J_history"
      ]
    },
    {
      "cell_type": "markdown",
      "metadata": {
        "id": "a8b_GwZslHQ4"
      },
      "source": [
        "#### 3.2.1 Seleccionando coheficientes de aprendizaje\n"
      ]
    },
    {
      "cell_type": "code",
      "execution_count": 18,
      "metadata": {
        "id": "sId0DiH9lHQ4",
        "colab": {
          "base_uri": "https://localhost:8080/",
          "height": 501
        },
        "outputId": "ec37e969-5ce2-41e2-b910-88a0b9836824"
      },
      "outputs": [
        {
          "output_type": "stream",
          "name": "stdout",
          "text": [
            "theta calculado por el descenso por el gradiente: [ 0.97815109  0.0469205  -0.11250177  0.05774437  0.09075429 -0.08827758\n",
            "  0.09974391 -0.01883636 -0.07550873 -0.09183275  0.06560851  0.01228978\n",
            "  0.04996477 -0.01824924  0.09742954]\n"
          ]
        },
        {
          "output_type": "display_data",
          "data": {
            "text/plain": [
              "<Figure size 640x480 with 1 Axes>"
            ],
            "image/png": "[encoded data removed]"
          },
          "metadata": {}
        }
      ],
      "source": [
        "# Elegir algun valor para alpha (probar varias alternativas)\n",
        "alpha = 0.001 # alpha = 0.003\n",
        "num_iters = 4000\n",
        "\n",
        "# inicializa theta y ejecuta el descenso por el gradiente\n",
        "theta = np.zeros(X.shape[1]) # Initialize theta with the number of features in X\n",
        "theta, J_history = gradientDescentMulti(X, y, theta, alpha, num_iters)\n",
        "\n",
        "# Grafica la convergencia del costo\n",
        "pyplot.plot(np.arange(len(J_history)), J_history, lw=2)\n",
        "pyplot.xlabel('Numero de iteraciones')\n",
        "pyplot.ylabel('Costo J')\n",
        "\n",
        "# Muestra los resultados del descenso por el gradiente\n",
        "print('theta calculado por el descenso por el gradiente: {:s}'.format(str(theta)))\n",
        "\n",
        "# Estimar el precio para una casa de 1650 sq-ft, con 3 dormitorios\n",
        "# X_array = [1, 1650, 3] # This part is commented out as it uses a specific example not relevant to the current dataset\n",
        "# X_array[1:3] = (X_array[1:3] - mu) / sigma # This part is commented out as it uses a specific example not relevant to the current dataset\n",
        "# price = np.dot(X_array, theta)   # Se debe cambiar esto # This part is commented out as it uses a specific example not relevant to the current dataset\n",
        "\n",
        "# print('El precio predecido para una casa de 1650 sq-ft y 3 dormitorios (usando el descenso por el gradiente): ${:.0f}'.format(price)) # This part is commented out as it uses a specific example not relevant to the current dataset"
      ]
    },
    {
      "cell_type": "code",
      "execution_count": 21,
      "metadata": {
        "id": "y0aZhWEqlHQ4",
        "colab": {
          "base_uri": "https://localhost:8080/"
        },
        "outputId": "97f714b4-51e7-4f0d-d202-cf49266c1708"
      },
      "outputs": [
        {
          "output_type": "stream",
          "name": "stdout",
          "text": [
            "Normalized X_array: [1 0 0 0 0 0 0 0 0 0 0 0 0 0 0]\n"
          ]
        }
      ],
      "source": [
        "# Create a new data point with the same number of features as the training data (excluding the intercept)\n",
        "new_data_point = np.array([12, 15, 10, 3, 2, 3, 2, 3, 3, 2, 3, 2, 2, 2]) # Example data point\n",
        "\n",
        "# Add the intercept term to the new data point\n",
        "X_array = np.concatenate([[1], new_data_point])\n",
        "\n",
        "# Normalize the new data point using the calculated mu and sigma\n",
        "X_array[1:] = (X_array[1:] - mu) / sigma\n",
        "\n",
        "print(\"Normalized X_array:\", X_array)\n",
        "\n",
        "# Now you can use this X_array to predict the price using the calculated theta\n",
        "# price = np.dot(X_array, theta)\n",
        "# print('El precio predecido para una casa de 1222 sq-ft y 3 dormitorios (usando el descenso por el gradiente): ${:.0f}'.format(price))"
      ]
    },
    {
      "cell_type": "code",
      "execution_count": 22,
      "metadata": {
        "id": "KZ4G9CbJlHQ4",
        "colab": {
          "base_uri": "https://localhost:8080/"
        },
        "outputId": "1adf55c9-3449-4308-c841-2aeab60ff445"
      },
      "outputs": [
        {
          "output_type": "stream",
          "name": "stdout",
          "text": [
            "Predicted value (using gradient descent): 1\n"
          ]
        }
      ],
      "source": [
        "price = np.dot(X_array, theta)   # Se debe cambiar esto\n",
        "\n",
        "print('Predicted value (using gradient descent): {:.0f}'.format(price))"
      ]
    },
    {
      "cell_type": "markdown",
      "metadata": {
        "id": "-nMzqD8elHQ4"
      },
      "source": [
        "# Ecuacion de la Normal\n",
        "\n",
        "$$ \\theta = \\left( X^T X\\right)^{-1} X^T\\vec{y}$$\n",
        "\n",
        "Primero se recargan los datos para garantizar que las variables no esten modificadas. Recordar que no es necesario escalar las caracteristicas, se debe agregar la columna de unos a la matriz $X$ para tener el termino de intersección($\\theta_0$)."
      ]
    },
    {
      "cell_type": "code",
      "execution_count": 24,
      "metadata": {
        "id": "C6j77JNmlHQ5",
        "colab": {
          "base_uri": "https://localhost:8080/"
        },
        "outputId": "dae4b5f1-06ee-455b-cf37-12e0f8729d1b"
      },
      "outputs": [
        {
          "output_type": "stream",
          "name": "stdout",
          "text": [
            "1100\n"
          ]
        }
      ],
      "source": [
        "# Cargar datos\n",
        "data = np.loadtxt('/content/gdrive/MyDrive/IA 1/datasets/StressLevelDataset_cleaned.txt', delimiter=',')\n",
        "X = data[:, :-1]\n",
        "y = data[:, -1]\n",
        "m = y.size\n",
        "print(m)\n",
        "X = np.concatenate([np.ones((m, 1)), X], axis=1)"
      ]
    },
    {
      "cell_type": "code",
      "execution_count": 25,
      "metadata": {
        "id": "gVZdjjk9lHQ5"
      },
      "outputs": [],
      "source": [
        "def normalEqn(X, y):\n",
        "\n",
        "    theta = np.zeros(X.shape[1])\n",
        "\n",
        "    theta = np.dot(np.dot(np.linalg.inv(np.dot(X.T,X)),X.T),y)\n",
        "\n",
        "    return theta"
      ]
    },
    {
      "cell_type": "code",
      "execution_count": 29,
      "metadata": {
        "id": "Ybyw-FfolHQ5",
        "colab": {
          "base_uri": "https://localhost:8080/"
        },
        "outputId": "fd4c31da-e6b4-4c06-f09b-489673cdc678"
      },
      "outputs": [
        {
          "output_type": "stream",
          "name": "stdout",
          "text": [
            "Theta calculado a partir de la ecuación de la normal: [ 0.85306628  0.00552173 -0.01521394  0.00699129  0.07176586 -0.06021529\n",
            "  0.07813065 -0.01222298 -0.05918506 -0.06973954  0.04720463  0.02614543\n",
            "  0.02318896 -0.01072571  0.07259258]\n",
            "Valor predicho (usando la ecuación normal): 1\n",
            "\n",
            "Interpretación: El nivel de estrés predicho para una persona con las características dadas es aproximadamente 1.\n",
            "Nota: El nivel de estrés es un valor discreto (0, 1 o 2) basado en el conjunto de datos original,\n",
            "por lo que el valor predicho debe interpretarse como el nivel de estrés entero más cercano.\n"
          ]
        }
      ],
      "source": [
        "# Calcula los parametros con la ecuación de la normal\n",
        "theta = normalEqn(X, y);\n",
        "\n",
        "# Muestra los resultados optenidos a partir de la aplicación de la ecuación de la normal\n",
        "print('Theta calculado a partir de la ecuación de la normal: {:s}'.format(str(theta)));\n",
        "\n",
        "# Estimar el precio para una casa de superficie de 1650 sq-ft y tres dormitorios\n",
        "\n",
        "# Create an example data point with the correct number of features (14) plus intercept (1)\n",
        "X_array = np.array([1, 12, 15, 10, 3, 2, 3, 2, 3, 3, 2, 3, 2, 2, 2]) # Example data point with 14 features + intercept\n",
        "\n",
        "price = np.dot(X_array, theta)\n",
        "\n",
        "print('Valor predicho (usando la ecuación normal): {:.0f}'.format(price))\n",
        "\n",
        "# Interpretation of the result\n",
        "print('\\nInterpretación: El nivel de estrés predicho para una persona con las características dadas es aproximadamente {:.0f}.'.format(price))\n",
        "print('Nota: El nivel de estrés es un valor discreto (0, 1 o 2) basado en el conjunto de datos original,')\n",
        "print('por lo que el valor predicho debe interpretarse como el nivel de estrés entero más cercano.')"
      ]
    }
  ],
  "metadata": {
    "kernelspec": {
      "display_name": "Python 3",
      "language": "python",
      "name": "python3"
    },
    "language_info": {
      "codemirror_mode": {
        "name": "ipython",
        "version": 3
      },
      "file_extension": ".py",
      "mimetype": "text/x-python",
      "name": "python",
      "nbconvert_exporter": "python",
      "pygments_lexer": "ipython3",
      "version": "3.8.5"
    },
    "colab": {
      "provenance": [],
      "toc_visible": true
    }
  },
  "nbformat": 4,
  "nbformat_minor": 0
}