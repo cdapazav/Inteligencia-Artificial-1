{
  "cells": [
    {
      "cell_type": "markdown",
      "metadata": {
        "id": "tfwOfkjclHQx"
      },
      "source": [
        "# Regresión Lineal Multiple"
      ]
    },
    {
      "cell_type": "code",
      "execution_count": 14,
      "metadata": {
        "id": "f0WGMMljlHQz"
      },
      "outputs": [],
      "source": [
        "# utilizado para manejos de directorios y rutas\n",
        "import os\n",
        "\n",
        "# Computacion vectorial y cientifica para python\n",
        "import numpy as np\n",
        "\n",
        "# Librerias para graficación (trazado de gráficos)\n",
        "from matplotlib import pyplot\n",
        "from mpl_toolkits.mplot3d import Axes3D  # Necesario para graficar superficies 3D\n",
        "\n",
        "# llama a matplotlib a embeber graficas dentro de los cuadernillos\n",
        "%matplotlib inline"
      ]
    },
    {
      "cell_type": "code",
      "source": [
        "from google.colab import drive\n",
        "drive.mount(\"/content/gdrive\")"
      ],
      "metadata": {
        "id": "LhERtghFlVGr",
        "colab": {
          "base_uri": "https://localhost:8080/"
        },
        "outputId": "6afe6616-3deb-4199-e636-b2f9ccf759ab"
      },
      "execution_count": 2,
      "outputs": [
        {
          "output_type": "stream",
          "name": "stdout",
          "text": [
            "Mounted at /content/gdrive\n"
          ]
        }
      ]
    },
    {
      "cell_type": "markdown",
      "metadata": {
        "id": "G6-ykOwelHQ0"
      },
      "source": [
        "\n",
        "\n",
        "<a id=\"section4\"></a>\n",
        "# Normalización de caracteristicas\n",
        "\n",
        "Al visualizar los datos se puede observar que las caracteristicas tienen diferentes magnitudes, por lo cual se debe transformar cada valor en una escala de valores similares, esto con el fin de que el descenso por el gradiente pueda converger mas rapidamente."
      ]
    },
    {
      "cell_type": "code",
      "execution_count": 15,
      "metadata": {
        "id": "6BP5grkxlHQ0",
        "colab": {
          "base_uri": "https://localhost:8080/"
        },
        "outputId": "d580ae73-b2af-44df-cff8-72fac1556fb5"
      },
      "outputs": [
        {
          "output_type": "stream",
          "name": "stdout",
          "text": [
            "17449\n",
            "  X[:,0] X[:, 1]         y\n",
            "--------------------------\n",
            "     180    5777      4078\n",
            "     930    1195        33\n",
            "     233    3028     13227\n",
            "     562     431        43\n",
            "     300    3087       222\n",
            "     135     467       168\n",
            "      43     634       138\n",
            "       4     738    373587\n",
            "     228    5880      1876\n",
            "     268     492        50\n"
          ]
        }
      ],
      "source": [
        "# Cargar datos\n",
        "# data = np.loadtxt(os.path.join('Datasets', 'ex1data2.txt'), delimiter=',')\n",
        "data = np.loadtxt('/content/gdrive/MyDrive/IA 1/datasets/youtube_data_train.txt', delimiter=',')\n",
        "X = data[:, :-1] # Selects all columns except the last one as features\n",
        "y = data[:, -1] # Selects the last column as the target variable\n",
        "m = y.size\n",
        "print(m)\n",
        "# imprimir algunos puntos de datos\n",
        "print('{:>8s}{:>8s}{:>10s}'.format('X[:,0]', 'X[:, 1]', 'y'))\n",
        "print('-'*26)\n",
        "for i in range(10):\n",
        "    print('{:8.0f}{:8.0f}{:10.0f}'.format(X[i, 0], X[i, 1], y[i]))"
      ]
    },
    {
      "cell_type": "code",
      "execution_count": 16,
      "metadata": {
        "id": "7xFD8H3WlHQ1"
      },
      "outputs": [],
      "source": [
        "def  featureNormalize(X):\n",
        "\n",
        "    X_norm = X.copy()\n",
        "    mu = np.zeros(X.shape[1])\n",
        "    sigma = np.zeros(X.shape[1])\n",
        "\n",
        "    mu = np.mean(X, axis = 0)\n",
        "    sigma = np.std(X, axis = 0)\n",
        "    X_norm = (X - mu) / sigma\n",
        "\n",
        "    return X_norm, mu, sigma"
      ]
    },
    {
      "cell_type": "code",
      "execution_count": 17,
      "metadata": {
        "id": "ipL_QsTZlHQ2",
        "colab": {
          "base_uri": "https://localhost:8080/"
        },
        "outputId": "30940b97-65bd-49eb-f65c-136df26c7659"
      },
      "outputs": [
        {
          "output_type": "stream",
          "name": "stdout",
          "text": [
            "[[1.800e+02 5.777e+03 5.640e+03 ... 2.500e+01 4.100e+01 3.000e+00]\n",
            " [9.300e+02 1.195e+03 1.001e+03 ... 3.000e+01 2.000e+00 1.000e+00]\n",
            " [2.330e+02 3.028e+03 2.833e+03 ... 2.398e+01 1.350e+02 1.700e+01]\n",
            " ...\n",
            " [1.290e+03 3.130e+03 2.935e+03 ... 2.997e+01 4.000e+00 0.000e+00]\n",
            " [1.740e+02 9.510e+02 8.330e+02 ... 0.000e+00 1.000e+00 0.000e+00]\n",
            " [7.160e+02 2.350e+03 2.156e+03 ... 2.997e+01 0.000e+00 0.000e+00]]\n",
            "Media calculada: [ 241.39280188 1271.89695685 1150.96813571  767.00532982  504.58100751\n",
            "   26.46234455    9.47521463  210.38122529   12.96802109]\n",
            "Desviación estandar calculada: [4.93457951e+02 1.37687581e+03 1.35328773e+03 4.67678831e+02\n",
            " 2.62670651e+02 6.03550036e+00 1.32555037e+01 8.51118103e+03\n",
            " 2.26725644e+02]\n",
            "[[-0.12441344  3.27197486  3.31713039 ...  1.17119543 -0.01990102\n",
            "  -0.04396512]\n",
            " [ 1.3954729  -0.05584887 -0.11081763 ...  1.54839724 -0.02448323\n",
            "  -0.05278636]\n",
            " [-0.01700814  1.27542588  1.24292257 ...  1.09424626 -0.00885673\n",
            "   0.01778352]\n",
            " ...\n",
            " [ 2.12501835  1.34950664  1.31829457 ...  1.54613403 -0.02424825\n",
            "  -0.05719698]\n",
            " [-0.13657253 -0.23306166 -0.23495974 ... -0.71481362 -0.02460073\n",
            "  -0.05719698]\n",
            " [ 0.96179866  0.78300674  0.74265941 ...  1.54613403 -0.02471822\n",
            "  -0.05719698]]\n"
          ]
        }
      ],
      "source": [
        "# llama featureNormalize con los datos cargados\n",
        "X_norm, mu, sigma = featureNormalize(X)\n",
        "\n",
        "print(X)\n",
        "print('Media calculada:', mu)\n",
        "print('Desviación estandar calculada:', sigma)\n",
        "print(X_norm)"
      ]
    },
    {
      "cell_type": "markdown",
      "metadata": {
        "id": "it9bMYuLlHQ2"
      },
      "source": [
        "Despues de `featureNormalize` la funcion es provada, se añade el temino de interseccion a `X_norm`:"
      ]
    },
    {
      "cell_type": "code",
      "execution_count": 18,
      "metadata": {
        "id": "nNaGVxgolHQ2"
      },
      "outputs": [],
      "source": [
        "# Añade el termino de interseccion a X\n",
        "# (Columna de unos para X0)\n",
        "X = np.concatenate([np.ones((m, 1)), X_norm], axis=1)"
      ]
    },
    {
      "cell_type": "code",
      "execution_count": 19,
      "metadata": {
        "id": "nbUVohnhlHQ3",
        "colab": {
          "base_uri": "https://localhost:8080/"
        },
        "outputId": "dbac6681-2957-49fb-9f94-88232d74df9b"
      },
      "outputs": [
        {
          "output_type": "stream",
          "name": "stdout",
          "text": [
            "[[ 1.         -0.12441344  3.27197486 ...  1.17119543 -0.01990102\n",
            "  -0.04396512]\n",
            " [ 1.          1.3954729  -0.05584887 ...  1.54839724 -0.02448323\n",
            "  -0.05278636]\n",
            " [ 1.         -0.01700814  1.27542588 ...  1.09424626 -0.00885673\n",
            "   0.01778352]\n",
            " ...\n",
            " [ 1.          2.12501835  1.34950664 ...  1.54613403 -0.02424825\n",
            "  -0.05719698]\n",
            " [ 1.         -0.13657253 -0.23306166 ... -0.71481362 -0.02460073\n",
            "  -0.05719698]\n",
            " [ 1.          0.96179866  0.78300674 ...  1.54613403 -0.02471822\n",
            "  -0.05719698]]\n"
          ]
        }
      ],
      "source": [
        "print(X)"
      ]
    },
    {
      "cell_type": "markdown",
      "metadata": {
        "id": "xzLiIE6NlHQ3"
      },
      "source": [
        "<a id=\"section5\"></a>\n",
        "# Descenso por el gradiente\n",
        "\n",
        "La implementacion de las funciones `computeCostMulti` y `gradientDescentMulti` son similares a la funcion de costo y función de descenso por el gradiente de la regresión lineal multiple es similar al de la regresion lineal multivariable. Es importante garantizar que el codigo soporte cualquier numero de caracteristicas y esten bien vectorizadas.\n",
        "\n",
        "<div class=\"alert alert-block alert-warning\">\n",
        "**Nota de implementación:** En el caso de multivariables, la función de costo puede se escrita considerando la forma vectorizada de la siguiente manera:\n",
        "\n",
        "$$ J(\\theta) = \\frac{1}{2m}(X\\theta - \\vec{y})^T(X\\theta - \\vec{y}) $$\n",
        "\n",
        "donde:\n",
        "\n",
        "$$ X = \\begin{pmatrix}\n",
        "- (x^{(1)})^T - \\\\\n",
        "- (x^{(2)})^T - \\\\\n",
        "\\vdots \\\\\n",
        "- (x^{(m)})^T - \\\\ \\\\\n",
        "\\end{pmatrix} \\qquad \\mathbf{y} = \\begin{bmatrix} y^{(1)} \\\\ y^{(2)} \\\\ \\vdots \\\\ y^{(m)} \\\\\\end{bmatrix}$$\n",
        "\n",
        "La version vectorizada es eficiente cuando se trabaja con herramientas de calculo numericos computacional como `numpy`.\n",
        "</div>\n",
        "\n",
        "<a id=\"computeCostMulti\"></a>"
      ]
    },
    {
      "cell_type": "code",
      "execution_count": 20,
      "metadata": {
        "id": "EQCMN7KqlHQ3"
      },
      "outputs": [],
      "source": [
        "def computeCostMulti(X, y, theta):\n",
        "    # Inicializa algunos valores utiles\n",
        "    m = y.shape[0] # numero de ejemplos de entrenamiento\n",
        "\n",
        "    J = 0\n",
        "\n",
        "    # h = np.dot(X, theta)\n",
        "\n",
        "    J = (1/(2 * m)) * np.sum(np.square(np.dot(X, theta) - y))\n",
        "\n",
        "    return J\n"
      ]
    },
    {
      "cell_type": "code",
      "execution_count": 21,
      "metadata": {
        "id": "Vdy_aQUklHQ4"
      },
      "outputs": [],
      "source": [
        "def gradientDescentMulti(X, y, theta, alpha, num_iters):\n",
        "\n",
        "    # Inicializa algunos valores\n",
        "    m = y.shape[0] # numero de ejemplos de entrenamiento\n",
        "\n",
        "    # realiza una copia de theta, el cual será acutalizada por el descenso por el gradiente\n",
        "\n",
        "    theta = theta.copy()\n",
        "\n",
        "    J_history = []\n",
        "\n",
        "    for i in range(num_iters):\n",
        "        theta = theta - (alpha / m) * (np.dot(X, theta) - y).dot(X)\n",
        "        J_history.append(computeCostMulti(X, y, theta))\n",
        "\n",
        "    return theta, J_history"
      ]
    },
    {
      "cell_type": "markdown",
      "metadata": {
        "id": "a8b_GwZslHQ4"
      },
      "source": [
        "# Seleccionando coheficientes de aprendizaje\n"
      ]
    },
    {
      "cell_type": "code",
      "execution_count": 22,
      "metadata": {
        "id": "sId0DiH9lHQ4",
        "colab": {
          "base_uri": "https://localhost:8080/",
          "height": 517
        },
        "outputId": "da024188-64d9-4a8a-c8bd-0151d2d2098e"
      },
      "outputs": [
        {
          "output_type": "stream",
          "name": "stdout",
          "text": [
            "theta calculado por el descenso por el gradiente: [ 6.81998040e+04 -1.06545534e+04  1.99436006e+03  7.23768056e+02\n",
            " -4.78661044e+02 -9.19965609e+03 -4.58867253e+03 -2.06947755e+04\n",
            "  2.72683173e+06 -1.50928176e+05]\n"
          ]
        },
        {
          "output_type": "display_data",
          "data": {
            "text/plain": [
              "<Figure size 640x480 with 1 Axes>"
            ],
            "image/png": "[encoded data removed]"
          },
          "metadata": {}
        }
      ],
      "source": [
        "# Elegir algun valor para alpha (probar varias alternativas)\n",
        "alpha = 0.001 # alpha = 0.003\n",
        "num_iters = 4000\n",
        "\n",
        "# inicializa theta y ejecuta el descenso por el gradiente\n",
        "theta = np.zeros(X.shape[1])\n",
        "theta, J_history = gradientDescentMulti(X, y, theta, alpha, num_iters)\n",
        "\n",
        "# Grafica la convergencia del costo\n",
        "pyplot.plot(np.arange(len(J_history)), J_history, lw=2)\n",
        "pyplot.xlabel('Numero de iteraciones')\n",
        "pyplot.ylabel('Costo J')\n",
        "\n",
        "# Muestra los resultados del descenso por el gradiente\n",
        "print('theta calculado por el descenso por el gradiente: {:s}'.format(str(theta)))\n",
        "\n",
        "# Estimar el precio para una casa de 1650 sq-ft, con 3 dormitorios\n",
        "# X_array = [1, 1650, 3]\n",
        "# X_array[1:3] = (X_array[1:3] - mu) / sigma\n",
        "# price = np.dot(X_array, theta)   # Se debe cambiar esto\n",
        "\n",
        "# print('El precio predecido para una casa de 1650 sq-ft y 3 dormitorios (usando el descenso por el gradiente): ${:.0f}'.format(price))"
      ]
    },
    {
      "cell_type": "markdown",
      "source": [
        "# Prediccion con Descenso por el gradiente"
      ],
      "metadata": {
        "id": "ELW9bRDnioKt"
      }
    },
    {
      "cell_type": "code",
      "execution_count": 29,
      "metadata": {
        "id": "y0aZhWEqlHQ4",
        "colab": {
          "base_uri": "https://localhost:8080/"
        },
        "collapsed": true,
        "outputId": "4d0e61b2-29ab-41a3-e231-d780a46d2904"
      },
      "outputs": [
        {
          "output_type": "stream",
          "name": "stdout",
          "text": [
            "Predicciones para el conjunto de datos de prueba (usando el descenso por gradiente):\n",
            "[60727.7151682  60879.31310668 66746.13936102 65734.87861762\n",
            " 62427.71616148 65563.58235022 64628.78429194 65575.91712721\n",
            " 65596.50831665 65583.68834987 66178.7116171  65575.43127874\n",
            " 67089.43058376 66163.90233285 65630.29829139 60271.7297306\n",
            " 60885.71310739 67048.21607453 65581.63355978 65227.07775777\n",
            " 64611.48225284 60872.9303541  65598.36297977 60931.05246903\n",
            " 64141.33690312 61940.0438732  66144.97831452 65562.68555646\n",
            " 66040.60774536 67490.48687448 60877.33699925 60878.48787737\n",
            " 65576.34646336 62123.96766398 66080.27042285 67029.99427624\n",
            " 66150.09451483 60806.10881533 65604.9218658  66046.85707285\n",
            " 60882.13518372 65600.58600499 60817.50042331 66046.34685796\n",
            " 66068.52209874 62170.17039855 65570.5985879  65428.13285349\n",
            " 64715.20048476 65615.66925555 65578.97766754 62374.61470214\n",
            " 65580.56615429 65606.68949341 60886.36049762 65607.19386285\n",
            " 66042.64114731 65600.20269868 60883.65284519 65617.33023181\n",
            " 62118.52694701 65581.64694528 66039.9985414  62192.01867444\n",
            " 65577.83846264 65578.51140029 67506.73555257 65721.21256302\n",
            " 66073.76130067 66164.27831638 65593.87018112 66047.90121299\n",
            " 60845.98426867 65607.64973082 65577.05689183 62127.03683652\n",
            " 65576.16225989 62099.2879723  65585.22025394 65594.3852325\n",
            " 60840.18383481 63438.09752393 66735.80460623 62329.66851778\n",
            " 66066.33458416 66045.48447258 67032.4876405  60617.05848456\n",
            " 60821.22464344 63324.37396925 65907.81939848 66052.00686593\n",
            " 67033.0335687  65570.78751853 66045.5326283  62182.71721002\n",
            " 66143.54963458 64699.32522885 67498.13939118 66181.44010502\n",
            " 60869.54179239 60882.19789793 65562.92231743 65575.95257059\n",
            " 59230.96242965 65572.49032495 64757.33138859 65573.63779767\n",
            " 66143.57961627 66045.3763641  60644.25965104 66047.58859979\n",
            " 65567.14575737 65584.3095308  60879.93821272 67035.75055797\n",
            " 60876.46790981 60869.4709611  62081.03601522 64696.48531544\n",
            " 65573.91569601 65555.59192201 66046.93730307 65596.23302192\n",
            " 64165.00353256 65574.66496449 65579.26978643 62081.24692159\n",
            " 67033.34166635 60872.56109016 60535.10815036 62140.7440901\n",
            " 62381.94464934 65577.19637037 65580.00665592 65575.32642931\n",
            " 65577.5327816  65576.76913981 60830.17477949 66085.08384766]\n"
          ]
        }
      ],
      "source": [
        "# Cargar datos de prueba desde un archivo .txt\n",
        "# Asegúrate de que este archivo contenga solo las 9 características de tus datos de prueba\n",
        "test_data_gd = np.loadtxt('/content/gdrive/MyDrive/IA 1/datasets/youtube_data_test.txt', delimiter=',')\n",
        "\n",
        "# Asegurarse de que test_data_gd sea un array 2D incluso si solo hay un ejemplo\n",
        "if test_data_gd.ndim == 1:\n",
        "    test_data_gd = test_data_gd.reshape(1, -1)\n",
        "\n",
        "# Normalizar las caracteristicas del conjunto de datos de prueba usando mu y sigma del entrenamiento\n",
        "# Asegurate de que mu y sigma ya han sido calculados (celda ipL_QsTZlHQ2)\n",
        "if 'mu' in globals() and 'sigma' in globals():\n",
        "    test_data_normalized = (test_data_gd - mu) / sigma\n",
        "else:\n",
        "    print(\"Las variables 'mu' o 'sigma' no han sido calculadas. Por favor, ejecuta la celda con featureNormalize primero.\")\n",
        "    test_data_normalized = None # Asignar None para evitar errores si mu o sigma no existen\n",
        "\n",
        "if test_data_normalized is not None:\n",
        "    # Agregar la columna de unos para el termino de intercepcion\n",
        "    X_array_test_gd = np.concatenate([np.ones((test_data_normalized.shape[0], 1)), test_data_normalized], axis=1)\n",
        "\n",
        "    # Realizar la prediccion utilizando los thetas del descenso por gradiente\n",
        "    # Asegurate de que 'theta' ya ha sido calculado con gradientDescentMulti (celda sId0DiH9lHQ4)\n",
        "    if 'theta' in globals():\n",
        "        predictions_gd = np.dot(X_array_test_gd, theta)\n",
        "\n",
        "        print('Predicciones para el conjunto de datos de prueba (usando el descenso por gradiente):')\n",
        "        print(predictions_gd)\n",
        "    else:\n",
        "        print(\"La variable 'theta' para el descenso por gradiente no ha sido calculada. Por favor, ejecuta la celda con gradientDescentMulti primero.\")"
      ]
    },
    {
      "cell_type": "code",
      "execution_count": null,
      "metadata": {
        "id": "KZ4G9CbJlHQ4",
        "colab": {
          "base_uri": "https://localhost:8080/"
        },
        "outputId": "4cb243aa-949b-48f5-c3a3-17fbe7c7e8f7"
      },
      "outputs": [
        {
          "output_type": "stream",
          "name": "stdout",
          "text": [
            "El precio predecido para una casa de 1222 sq-ft y 3 dormitorios (usando el descenso por el gradiente): $235023\n"
          ]
        }
      ],
      "source": [
        "price = np.dot(X_array, theta)   # Se debe cambiar esto\n",
        "\n",
        "print('El precio predecido para una casa de 1222 sq-ft y 3 dormitorios (usando el descenso por el gradiente): ${:.0f}'.format(price))"
      ]
    },
    {
      "cell_type": "markdown",
      "metadata": {
        "id": "-nMzqD8elHQ4"
      },
      "source": [
        "<a id=\"section7\"></a>\n",
        "# Ecuacion de la Normal\n",
        "\n",
        "$$ \\theta = \\left( X^T X\\right)^{-1} X^T\\vec{y}$$\n",
        "\n",
        "Primero se recargan los datos para garantizar que las variables no esten modificadas. Recordar que no es necesario escalar las caracteristicas, se debe agregar la columna de unos a la matriz $X$ para tener el termino de intersección($\\theta_0$)."
      ]
    },
    {
      "cell_type": "code",
      "execution_count": 24,
      "metadata": {
        "id": "C6j77JNmlHQ5",
        "colab": {
          "base_uri": "https://localhost:8080/"
        },
        "outputId": "91e86028-6332-440f-89b8-43265973ad88"
      },
      "outputs": [
        {
          "output_type": "stream",
          "name": "stdout",
          "text": [
            "17449\n"
          ]
        }
      ],
      "source": [
        "# Cargar datos\n",
        "data = np.loadtxt('/content/gdrive/MyDrive/IA 1/datasets/youtube_data_train.txt', delimiter=',')\n",
        "X = data[:, :-1]\n",
        "y = data[:, -1]\n",
        "m = y.size\n",
        "print(m)\n",
        "X = np.concatenate([np.ones((m, 1)), X], axis=1)"
      ]
    },
    {
      "cell_type": "code",
      "execution_count": 25,
      "metadata": {
        "id": "gVZdjjk9lHQ5"
      },
      "outputs": [],
      "source": [
        "def normalEqn(X, y):\n",
        "\n",
        "    theta = np.zeros(X.shape[1])\n",
        "\n",
        "    theta = np.dot(np.dot(np.linalg.inv(np.dot(X.T,X)),X.T),y)\n",
        "\n",
        "    return theta"
      ]
    },
    {
      "cell_type": "code",
      "execution_count": 28,
      "metadata": {
        "id": "Ybyw-FfolHQ5",
        "colab": {
          "base_uri": "https://localhost:8080/"
        },
        "outputId": "6132fe5c-4d35-4874-d22e-9d995b744538"
      },
      "outputs": [
        {
          "output_type": "stream",
          "name": "stdout",
          "text": [
            "Theta calculado a partir de la ecuación de la normal: [ 6.43548628e+04 -8.75049344e+00  1.15020550e+01 -6.96043674e+00\n",
            "  1.40612650e+01 -5.64330578e+01 -5.70412670e+02 -2.06409749e+03\n",
            "  3.42943245e+02 -1.48038904e+03]\n"
          ]
        }
      ],
      "source": [
        "# Calcula los parametros con la ecuación de la normal\n",
        "theta = normalEqn(X, y);\n",
        "\n",
        "# Muestra los resultados optenidos a partir de la aplicación de la ecuación de la normal\n",
        "print('Theta calculado a partir de la ecuación de la normal: {:s}'.format(str(theta)));"
      ]
    },
    {
      "cell_type": "markdown",
      "source": [
        "# Prediccion con ecuacion de la normal"
      ],
      "metadata": {
        "id": "YBvlyYeUhiH5"
      }
    },
    {
      "cell_type": "code",
      "metadata": {
        "colab": {
          "base_uri": "https://localhost:8080/"
        },
        "id": "b5f99ee2",
        "outputId": "c93b305a-6b63-4db2-a247-87e9bbabf367"
      },
      "source": [
        "# Cargar datos de prueba\n",
        "test_data = np.loadtxt('/content/gdrive/MyDrive/IA 1/datasets/youtube_data_test.txt', delimiter=',')\n",
        "\n",
        "# Asegurarse de que test_data sea un array 2D incluso si solo hay un ejemplo\n",
        "if test_data.ndim == 1:\n",
        "    test_data = test_data.reshape(1, -1)\n",
        "\n",
        "# Agregar la columna de unos al final para el termino de intercepcion\n",
        "X_array_test = np.concatenate([test_data, np.ones((test_data.shape[0], 1))], axis=1)\n",
        "\n",
        "# Realizar la prediccion utilizando la ecuacion de la normal\n",
        "# Asegurate de que 'theta' ya ha sido calculado con la ecuacion de la normal (celda Ybyw-FfolHQ5)\n",
        "if 'theta' in globals():\n",
        "    predictions = np.dot(X_array_test, theta)\n",
        "\n",
        "    print('Predicciones para el conjunto de datos de prueba (usando la ecuación de la normal):')\n",
        "    print(predictions)\n",
        "else:\n",
        "    print(\"La variable 'theta' no ha sido calculada. Por favor, ejecuta la celda con la ecuacion de la normal primero.\")"
      ],
      "execution_count": 27,
      "outputs": [
        {
          "output_type": "stream",
          "name": "stdout",
          "text": [
            "Predicciones para el conjunto de datos de prueba (usando la ecuación de la normal):\n",
            "[2.25027970e+06 2.75425815e+06 1.48638250e+07 9.76936944e+06\n",
            " 5.57619752e+06 9.13791909e+06 2.21312752e+07 1.19056852e+07\n",
            " 3.37201148e+07 5.59127582e+06 1.75676186e+07 1.38990557e+07\n",
            " 3.34536321e+06 3.53821173e+06 1.27998145e+07 1.21434406e+07\n",
            " 1.26591761e+06 9.45800026e+06 9.62829910e+05 2.38965996e+07\n",
            " 1.80146757e+07 8.35304128e+06 2.76767275e+06 1.60048820e+07\n",
            " 3.99018776e+06 5.05900550e+07 1.28040439e+07 4.11814825e+06\n",
            " 6.16589827e+06 1.86487712e+06 9.42476578e+06 3.13257348e+06\n",
            " 1.15489768e+06 4.94042511e+06 3.86753014e+07 1.89772800e+07\n",
            " 2.25354008e+06 1.79319265e+07 1.01659282e+07 3.60130825e+06\n",
            " 5.44472230e+06 1.02195775e+07 3.85045135e+06 7.39894323e+06\n",
            " 1.60786099e+06 2.33394481e+07 7.72097697e+06 1.55439293e+07\n",
            " 2.11411916e+06 4.56712566e+06 2.76799824e+06 4.05344166e+07\n",
            " 3.92292197e+06 3.53343192e+06 3.45953859e+06 3.82117157e+07\n",
            " 2.09129073e+07 1.15576027e+07 3.46068330e+06 5.53019366e+06\n",
            " 2.84618246e+06 1.67956530e+07 3.06310785e+07 4.73644565e+06\n",
            " 3.84100931e+07 8.11012279e+06 2.31557436e+06 1.19646962e+07\n",
            " 1.26297010e+07 6.42052293e+05 3.96965854e+07 4.94534127e+06\n",
            " 3.38818309e+07 1.93982626e+06 3.91817624e+06 1.74308316e+07\n",
            " 1.37031900e+07 2.82281520e+06 5.08131355e+06 1.60118074e+07\n",
            " 4.51565903e+07 1.82086349e+07 8.23726811e+07 7.06552027e+06\n",
            " 7.59207284e+06 1.13263514e+07 6.24174540e+06 5.08699491e+06\n",
            " 6.47368306e+07 2.31295776e+06 2.58446989e+08 1.65396285e+07\n",
            " 3.40985105e+06 1.82656372e+07 1.13263927e+07 2.18461930e+07\n",
            " 3.21386112e+05 5.05607170e+05 3.27512872e+07 4.18034122e+06\n",
            " 5.39411658e+06 1.00133067e+07 8.58466135e+07 1.31288263e+07\n",
            " 1.45678756e+08 1.52525788e+07 3.85485002e+06 1.38381369e+07\n",
            " 4.95487596e+06 9.51752161e+06 6.71494212e+07 2.29074281e+07\n",
            " 2.50990963e+07 1.82750170e+07 1.08193602e+06 6.43001325e+04\n",
            " 1.27105514e+06 9.76466495e+06 8.49438754e+06 9.25740602e+06\n",
            " 8.10975782e+06 1.92939656e+07 5.59913848e+06 4.68687471e+07\n",
            " 1.75504066e+07 1.50585700e+07 2.12362614e+06 2.37732975e+06\n",
            " 3.02368792e+06 3.19642450e+07 2.79104036e+06 2.95049911e+07\n",
            " 1.45363397e+07 2.16595567e+07 1.59562914e+07 3.67480230e+07\n",
            " 6.75523909e+06 1.03554449e+07 1.87184455e+07 1.57008861e+07]\n"
          ]
        }
      ]
    }
  ],
  "metadata": {
    "kernelspec": {
      "display_name": "Python 3",
      "language": "python",
      "name": "python3"
    },
    "language_info": {
      "codemirror_mode": {
        "name": "ipython",
        "version": 3
      },
      "file_extension": ".py",
      "mimetype": "text/x-python",
      "name": "python",
      "nbconvert_exporter": "python",
      "pygments_lexer": "ipython3",
      "version": "3.8.5"
    },
    "colab": {
      "provenance": []
    }
  },
  "nbformat": 4,
  "nbformat_minor": 0
}